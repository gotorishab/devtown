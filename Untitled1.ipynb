{
 "cells": [
  {
   "cell_type": "code",
   "execution_count": 1,
   "id": "27f709ca",
   "metadata": {},
   "outputs": [
    {
     "name": "stdout",
     "output_type": "stream",
     "text": [
      "Accuracy: 1.0\n"
     ]
    }
   ],
   "source": [
    "import pandas as pd\n",
    "from sklearn.model_selection import train_test_split\n",
    "from sklearn.preprocessing import LabelEncoder\n",
    "from sklearn.tree import DecisionTreeClassifier\n",
    "from sklearn.metrics import accuracy_score\n",
    "\n",
    "data = [\n",
    "    ['Private', 'Self-emp-not-inc', 'Bachelors', 'Single', 'Male', 39, 'State-gov', 77516, 0],\n",
    "    ['Private', 'Private', 'HS-grad', 'Married-civ-spouse', 'Male', 50, 'Self-emp-not-inc', 83311, 0],\n",
    "    ['Local-gov', 'Private', 'Assoc-acdm', 'Divorced', 'Female', 38, 'Private', 215646, 0],\n",
    "    ['Private', 'Private', 'HS-grad', 'Married-civ-spouse', 'Female', 53, 'Private', 234721, 0],\n",
    "    ['Private', 'Federal-gov', 'Bachelors', 'Married-civ-spouse', 'Male', 28, 'Private', 338409, 0],\n",
    "]\n",
    "\n",
    "columns = ['workclass', 'education', 'marital_status', 'occupation', 'relationship', 'age', 'race', 'income', 'label']\n",
    "df = pd.DataFrame(data, columns=columns)\n",
    "\n",
    "df = df.drop(['education'], axis=1)\n",
    "\n",
    "label_encoder = LabelEncoder()\n",
    "df['workclass'] = label_encoder.fit_transform(df['workclass'])\n",
    "df['marital_status'] = label_encoder.fit_transform(df['marital_status'])\n",
    "df['occupation'] = label_encoder.fit_transform(df['occupation'])\n",
    "df['relationship'] = label_encoder.fit_transform(df['relationship'])\n",
    "df['race'] = label_encoder.fit_transform(df['race'])\n",
    "df['income'] = label_encoder.fit_transform(df['income'])\n",
    "\n",
    "X = df.drop('label', axis=1)\n",
    "y = df['label']\n",
    "\n",
    "X_train, X_test, y_train, y_test = train_test_split(X, y, test_size=0.2, random_state=42)\n",
    "\n",
    "classifier = DecisionTreeClassifier()\n",
    "\n",
    "classifier.fit(X_train, y_train)\n",
    "y_pred = classifier.predict(X_test)\n",
    "\n",
    "accuracy = accuracy_score(y_test, y_pred)\n",
    "print(f\"Accuracy: {accuracy}\")\n"
   ]
  },
  {
   "cell_type": "code",
   "execution_count": null,
   "id": "5268711e",
   "metadata": {},
   "outputs": [],
   "source": []
  }
 ],
 "metadata": {
  "kernelspec": {
   "display_name": "Python 3 (ipykernel)",
   "language": "python",
   "name": "python3"
  },
  "language_info": {
   "codemirror_mode": {
    "name": "ipython",
    "version": 3
   },
   "file_extension": ".py",
   "mimetype": "text/x-python",
   "name": "python",
   "nbconvert_exporter": "python",
   "pygments_lexer": "ipython3",
   "version": "3.9.6"
  }
 },
 "nbformat": 4,
 "nbformat_minor": 5
}
